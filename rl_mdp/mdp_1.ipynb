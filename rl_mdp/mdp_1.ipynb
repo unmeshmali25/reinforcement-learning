{
 "cells": [
  {
   "cell_type": "markdown",
   "id": "73473651",
   "metadata": {},
   "source": [
    "# Setup 4x4 GridWorld Environment"
   ]
  },
  {
   "cell_type": "code",
   "execution_count": null,
   "id": "6aa0ed50",
   "metadata": {},
   "outputs": [],
   "source": [
    "import numpy as np\n",
    "\n",
    "class GridWorld: \n",
    "    def __init__(self, size=4): \n",
    "        self.size = size\n",
    "        self.grid = np.zeros((size, size))\n",
    "        self.start = (0, 0)\n",
    "        self.goal = (size-1, size-1)\n",
    "        self.actions = ['U', 'D', 'L', 'R']\n",
    "        self.state = self.start\n",
    "\n",
    "    def reset(self): \n",
    "        self.state = self.start\n",
    "        return self.state\n",
    "    \n",
    "    def step(self, action): \n",
    "        x,y =  self.state\n",
    "        if action == 'U': \n",
    "            x = max(x-1,0)\n",
    "        elif action == 'D': \n",
    "            x = min(x+1, self.size-1)\n",
    "        elif action == 'L': \n",
    "            y = max(y-1,0)\n",
    "        elif action == 'R': \n",
    "            y = min(y+1, self.size-1)\n",
    "        \n",
    "        self.state = (x,y)\n",
    "        reward = -1 # small penalty for each step\n",
    "        if self.state == self.goal: \n",
    "            reward = 10\n",
    "            done = True\n",
    "        else: \n",
    "            done = False\n",
    "        \n",
    "        return self.state, reward, done\n",
    "    \n",
    "    def get_all_states(self): \n",
    "        return [(x,y) for x in range(self.size) for y in range(self.size)]\n",
    "\n",
    "    def is_terminal(self, state): \n",
    "        return state == self.goal\n",
    "        "
   ]
  },
  {
   "cell_type": "code",
   "execution_count": 15,
   "id": "fb1a9e8f",
   "metadata": {},
   "outputs": [
    {
     "data": {
      "image/png": "[encoded data removed]",
      "text/plain": [
       "<Figure size 640x480 with 1 Axes>"
      ]
     },
     "metadata": {},
     "output_type": "display_data"
    }
   ],
   "source": [
    "env = GridWorld(size=4)\n",
    "\n",
    "# Visualize the environment grid and agent position\n",
    "import matplotlib.pyplot as plt\n",
    "\n",
    "def plot_env(env):\n",
    "    grid = np.zeros((env.size, env.size))\n",
    "    x, y = env.state\n",
    "    gx, gy = env.goal\n",
    "    grid[gx, gy] = 0.5  # Mark goal\n",
    "    grid[x, y] = 1.0    # Mark agent\n",
    "    plt.imshow(grid, cmap='Blues', vmin=0, vmax=1)\n",
    "    plt.xticks(range(env.size))\n",
    "    plt.yticks(range(env.size))\n",
    "    # plt.gca().invert_yaxis()\n",
    "    plt.text(gy, gx, 'G', ha='center', va='center', color='red', fontsize=16)\n",
    "    plt.text(y, x, 'A', ha='center', va='center', color='black', fontsize=16)\n",
    "    plt.title(\"GridWorld: Agent (A), Goal (G)\")\n",
    "    plt.show()\n",
    "\n",
    "plot_env(env)"
   ]
  },
  {
   "cell_type": "code",
   "execution_count": 4,
   "id": "df4e413b",
   "metadata": {},
   "outputs": [
    {
     "data": {
      "text/plain": [
       "<__main__.GridWorld at 0x106238550>"
      ]
     },
     "execution_count": 4,
     "metadata": {},
     "output_type": "execute_result"
    }
   ],
   "source": [
    "env"
   ]
  },
  {
   "cell_type": "markdown",
   "id": "d50b4b72",
   "metadata": {},
   "source": [
    "# Implement Value Iteration for GridWorld "
   ]
  },
  {
   "cell_type": "code",
   "execution_count": 9,
   "id": "fbdb516b",
   "metadata": {},
   "outputs": [],
   "source": [
    "def value_iteration(env, gamma=0.9, theta=1e-6): \n",
    "    V = {state: 0 for state in env.get_all_states()}\n",
    "    policy = {}\n",
    "\n",
    "    while True: \n",
    "        delta = 0\n",
    "        for state in env.get_all_states(): \n",
    "            if env.is_terminal(state): \n",
    "                continue\n",
    "            v = V[state]\n",
    "            action_values = []\n",
    "\n",
    "            for action in env.actions:\n",
    "                env.state = state # temporarily set state\n",
    "                next_state, reward, _ = env.step(action)\n",
    "                value = reward + gamma * V[next_state]\n",
    "                action_values.append(value)\n",
    "            V[state] = max(action_values)\n",
    "            delta = max(delta, abs(v - V[state]))\n",
    "\n",
    "        if delta < theta:\n",
    "            break\n",
    "    \n",
    "    # Extract Policy\n",
    "    for state in env.get_all_states():\n",
    "        if env.is_terminal(state): \n",
    "            policy[state] = None\n",
    "            continue\n",
    "\n",
    "        action_values = []\n",
    "        for action in env.actions:\n",
    "            env.state = state\n",
    "            next_state, reward, _ = env.step(action)\n",
    "            value = reward + gamma * V[next_state]\n",
    "            action_values.append(value)\n",
    "\n",
    "        best_action = env.actions[np.argmax(action_values)]\n",
    "        policy[state] = best_action\n",
    "\n",
    "    return V, policy"
   ]
  },
  {
   "cell_type": "code",
   "execution_count": 11,
   "id": "6ae751aa",
   "metadata": {},
   "outputs": [],
   "source": [
    "V, policy = value_iteration(env)"
   ]
  },
  {
   "cell_type": "code",
   "execution_count": 18,
   "id": "6ec7b8eb",
   "metadata": {},
   "outputs": [
    {
     "name": "stdout",
     "output_type": "stream",
     "text": [
      "Optimal Policy:\n",
      "  (0, 0): D\n",
      "  (0, 1): D\n",
      "  (0, 2): D\n",
      "  (0, 3): D\n",
      "  (1, 0): D\n",
      "  (1, 1): D\n",
      "  (1, 2): D\n",
      "  (1, 3): D\n",
      "  (2, 0): D\n",
      "  (2, 1): D\n",
      "  (2, 2): D\n",
      "  (2, 3): D\n",
      "  (3, 0): R\n",
      "  (3, 1): R\n",
      "  (3, 2): R\n"
     ]
    }
   ],
   "source": [
    "print(\"Optimal Policy:\")\n",
    "for state in env.get_all_states():\n",
    "    if state != env.goal:\n",
    "        print(f\"  {state}: {policy[state]}\")"
   ]
  },
  {
   "cell_type": "code",
   "execution_count": 10,
   "id": "7bf1fdf2",
   "metadata": {},
   "outputs": [],
   "source": [
    "import matplotlib.pyplot as plt\n",
    "import numpy as np\n",
    "\n",
    "def visualize_policy(env, policy, V):\n",
    "    \"\"\"\n",
    "    Visualize the optimal policy as arrows on a grid and superimpose V values.\n",
    "\n",
    "    Args:\n",
    "        env (GridWorld): The GridWorld environment instance.\n",
    "        policy (dict): Dictionary mapping states to optimal actions.\n",
    "        V (dict): Dictionary mapping states to their optimal values.\n",
    "    \"\"\"\n",
    "    fig, ax = plt.subplots(figsize=(8, 8))\n",
    "    \n",
    "    # Create a grid for visualization\n",
    "    grid = np.zeros((env.size, env.size))\n",
    "    \n",
    "    # Mark goal\n",
    "    gx, gy = env.goal\n",
    "    grid[gx, gy] = 0.5\n",
    "    \n",
    "    # Display the grid (default origin='upper' means (0,0) is top-left)\n",
    "    ax.imshow(grid, cmap='Blues', vmin=0, vmax=1)\n",
    "    \n",
    "    # Define arrow directions for each action\n",
    "    arrows = {\n",
    "        'U': (0, -0.3),   # Up arrow (visually moves towards top)\n",
    "        'D': (0, 0.3),    # Down arrow (visually moves towards bottom)\n",
    "        'L': (-0.3, 0),   # Left arrow (visually moves towards left)\n",
    "        'R': (0.3, 0)     # Right arrow (visually moves towards right)\n",
    "    }\n",
    "    \n",
    "    # Draw arrows and V values for each state\n",
    "    for i in range(env.size):\n",
    "        for j in range(env.size):\n",
    "            state = (i, j)\n",
    "            \n",
    "            # Display V value\n",
    "            if state != env.goal:\n",
    "                value = V.get(state, 0.0) # Use .get to handle states not explicitly in V if any\n",
    "                ax.text(j, i - 0.2, f'{value:.2f}', # Adjust vertical position for text\n",
    "                        ha='center', va='center', fontsize=10, color='blue', weight='bold')\n",
    "            \n",
    "            # Draw policy arrows (only if not goal)\n",
    "            if state != env.goal:\n",
    "                action = policy.get(state, None) # Use .get for robustness\n",
    "                if action in arrows:\n",
    "                    dx, dy = arrows[action]\n",
    "                    # Note: matplotlib ax.arrow uses (x_coord, y_coord, dx, dy)\n",
    "                    # In our case, x_coord is column (j), y_coord is row (i)\n",
    "                    ax.arrow(j, i + 0.1, dx, dy, head_width=0.1, head_length=0.1, \n",
    "                            fc='red', ec='red', linewidth=2)\n",
    "            else:\n",
    "                # Mark goal state\n",
    "                ax.text(j, i, 'GOAL', ha='center', va='center', \n",
    "                       fontsize=12, fontweight='bold', color='green')\n",
    "    \n",
    "    # Add grid lines and labels\n",
    "    ax.set_xticks(range(env.size))\n",
    "    ax.set_yticks(range(env.size))\n",
    "    ax.grid(True, alpha=0.3)\n",
    "    \n",
    "    ax.set_title('Optimal Policy and Value Function Visualization', \n",
    "                fontsize=14)\n",
    "    ax.set_xlabel('Y coordinate')\n",
    "    ax.set_ylabel('X coordinate')\n",
    "    \n",
    "    plt.tight_layout()\n",
    "    plt.show()"
   ]
  },
  {
   "cell_type": "code",
   "execution_count": 28,
   "id": "dd4e7eee",
   "metadata": {},
   "outputs": [
    {
     "data": {
      "image/png": "[encoded data removed]",
      "text/plain": [
       "<Figure size 800x800 with 1 Axes>"
      ]
     },
     "metadata": {},
     "output_type": "display_data"
    }
   ],
   "source": [
    "visualize_policy(env, policy, V)"
   ]
  },
  {
   "cell_type": "code",
   "execution_count": 29,
   "id": "6fe82c29",
   "metadata": {},
   "outputs": [
    {
     "data": {
      "text/plain": [
       "{(0, 0): 1.8098,\n",
       " (0, 1): 3.122,\n",
       " (0, 2): 4.58,\n",
       " (0, 3): 6.2,\n",
       " (1, 0): 3.122,\n",
       " (1, 1): 4.58,\n",
       " (1, 2): 6.2,\n",
       " (1, 3): 8.0,\n",
       " (2, 0): 4.58,\n",
       " (2, 1): 6.2,\n",
       " (2, 2): 8.0,\n",
       " (2, 3): 10.0,\n",
       " (3, 0): 6.2,\n",
       " (3, 1): 8.0,\n",
       " (3, 2): 10.0,\n",
       " (3, 3): 0}"
      ]
     },
     "execution_count": 29,
     "metadata": {},
     "output_type": "execute_result"
    }
   ],
   "source": [
    "V"
   ]
  },
  {
   "cell_type": "markdown",
   "id": "0fdd272f",
   "metadata": {},
   "source": [
    "# Advancing the complexity of the GridWorld environment\n",
    "\n",
    "## Adding obstacles"
   ]
  },
  {
   "cell_type": "code",
   "execution_count": 73,
   "id": "b632638b",
   "metadata": {},
   "outputs": [],
   "source": [
    "import numpy as np\n",
    "\n",
    "class GridWorldObstacle: \n",
    "    def __init__(self, size=4, obstacle=[(2,3)]): \n",
    "        self.size = size\n",
    "        self.grid = np.zeros((size, size))\n",
    "        self.start = (0, 0)\n",
    "        self.goal = (size-1, size-1)\n",
    "        self.actions = ['U', 'D', 'L', 'R']\n",
    "        self.state = self.start\n",
    "        self.obstacle = obstacle\n",
    "\n",
    "    def reset(self): \n",
    "        self.state = self.start\n",
    "        return self.state\n",
    "    \n",
    "    def step(self, action): \n",
    "        x,y =  self.state\n",
    "        if action == 'U': \n",
    "            x = max(x-1,0)\n",
    "        elif action == 'D': \n",
    "            x = min(x+1, self.size-1)\n",
    "        elif action == 'L': \n",
    "            y = max(y-1,0)\n",
    "        elif action == 'R': \n",
    "            y = min(y+1, self.size-1)\n",
    "        \n",
    "        if (x,y) in self.obstacle:\n",
    "            reward = -1000\n",
    "            done = False # hitting an obstacle doesn't end the episode\n",
    "        else:\n",
    "            self.state = (x,y)\n",
    "            reward = -1 # default step penalty\n",
    "    \n",
    "            if self.state == self.goal: \n",
    "                reward = 10\n",
    "                done = True\n",
    "            else: \n",
    "                done = False\n",
    "        \n",
    "        return self.state, reward, done\n",
    "    \n",
    "    def get_all_states(self): \n",
    "        # I don't want to return states that are obstacles\n",
    "        all_states = [(x,y) for x in range(self.size) for y in range(self.size)]\n",
    "        return list(set(all_states) - set(self.obstacle))\n",
    "\n",
    "    def is_terminal(self, state): \n",
    "        return state == self.goal\n",
    "        "
   ]
  },
  {
   "cell_type": "code",
   "execution_count": 74,
   "id": "a84a4044",
   "metadata": {},
   "outputs": [],
   "source": [
    "env = GridWorldObstacle(size=4, obstacle=[(1,3)])"
   ]
  },
  {
   "cell_type": "code",
   "execution_count": 5,
   "id": "57780983",
   "metadata": {},
   "outputs": [
    {
     "data": {
      "image/png": "[encoded data removed]",
      "text/plain": [
       "<Figure size 640x480 with 1 Axes>"
      ]
     },
     "metadata": {},
     "output_type": "display_data"
    }
   ],
   "source": [
    "# Visualize the environment grid and agent position\n",
    "import matplotlib.pyplot as plt\n",
    "\n",
    "def plot_env(env):\n",
    "    grid = np.zeros((env.size, env.size))\n",
    "    x, y = env.state\n",
    "    gx, gy = env.goal\n",
    "    for ox, oy in env.obstacle: \n",
    "        grid[ox, oy] = 1.0 # Mark obstacle\n",
    "        plt.text(oy, ox, 'O', ha='center', va='center', color='white', fontsize=16)\n",
    "    grid[gx, gy] = 0.4  # Mark goal\n",
    "    grid[x, y] = 0.2    # Mark agent\n",
    "    grid[ox, oy] = 1.0  # Mark Obstacle\n",
    "    plt.imshow(grid, cmap='Blues', vmin=0, vmax=1)\n",
    "    plt.xticks(range(env.size))\n",
    "    plt.yticks(range(env.size))\n",
    "    # plt.gca().invert_yaxis()\n",
    "    plt.text(gy, gx, 'G', ha='center', va='center', color='red', fontsize=16)\n",
    "    plt.text(y, x, 'A', ha='center', va='center', color='black', fontsize=16)\n",
    "    plt.title(\"GridWorld: Agent (A), Goal (G)\")\n",
    "    plt.show()\n",
    "\n",
    "plot_env(env)"
   ]
  },
  {
   "cell_type": "markdown",
   "id": "fbc26fbd",
   "metadata": {},
   "source": [
    "## Running the value iteration algorithm we created above to get policy for this new grid world with an obstacle"
   ]
  },
  {
   "cell_type": "code",
   "execution_count": 76,
   "id": "e00e2629",
   "metadata": {},
   "outputs": [],
   "source": [
    "V, policy = value_iteration(env)"
   ]
  },
  {
   "cell_type": "code",
   "execution_count": 77,
   "id": "8577a850",
   "metadata": {},
   "outputs": [
    {
     "data": {
      "text/plain": [
       "15"
      ]
     },
     "execution_count": 77,
     "metadata": {},
     "output_type": "execute_result"
    }
   ],
   "source": [
    "len(policy)"
   ]
  },
  {
   "cell_type": "code",
   "execution_count": 78,
   "id": "d62d8307",
   "metadata": {},
   "outputs": [
    {
     "data": {
      "image/png": "[encoded data removed]",
      "text/plain": [
       "<Figure size 800x800 with 1 Axes>"
      ]
     },
     "metadata": {},
     "output_type": "display_data"
    }
   ],
   "source": [
    "visualize_policy(env, policy, V)"
   ]
  },
  {
   "cell_type": "markdown",
   "id": "6652816b",
   "metadata": {},
   "source": [
    "# Increasing the complexity of the environment converting actions to stochastic instead of deterministic\n"
   ]
  },
  {
   "cell_type": "markdown",
   "id": "94333e6f",
   "metadata": {},
   "source": [
    "## Questions to answer\n",
    "\n",
    "### State Space Considerations\n",
    "#### How to define probability distribution for each action? \n",
    "#### Should the probability be uniform across all actions? - Yes\n",
    "#### How to ensure transitional probabilities sum to 1.0? \n",
    "\n",
    "### Algorithm Impact\n",
    "### Will I need to track additional state information beyong position? \n",
    "\n",
    "#### Where in the class or step method should I introduce randomness? \n",
    "#### How to ensure that the stochastic transitions work correctly? \n",
    "\n"
   ]
  },
  {
   "cell_type": "code",
   "execution_count": null,
   "id": "cb2419d0",
   "metadata": {},
   "outputs": [],
   "source": [
    "import numpy as np\n",
    "\n",
    "\n",
    "class GridWorldStochasticActions: \n",
    "    def __init__(self, size=4, obstacle=[(2,3)]): \n",
    "        self.size = size\n",
    "        self.grid = np.zeros((size, size))\n",
    "        self.start = (0, 0)\n",
    "        self.goal = (size-1, size-1)\n",
    "        self.actions = ['U', 'D', 'L', 'R']\n",
    "        self.state = self.start\n",
    "        self.obstacle = obstacle\n",
    "\n",
    "    def reset(self): \n",
    "        self.state = self.start\n",
    "        return self.state\n",
    "    \n",
    "    def step(self, action): \n",
    "        x,y =  self.state\n",
    "\n",
    "        # Define trasition probabilities\n",
    "        # Example: 80% intended direction, 10% left, 10% right\n",
    "\n",
    "        action_probabilities = {\n",
    "            'U': [('U', 0.8), ('L', 0.1), ('R', 0.1)],\n",
    "            'D': [('D', 0.5), ('L', 0.1), ('R', 0.4)],\n",
    "            'L': [('L', 0.8), ('U', 0.1), ('D', 0.1)],\n",
    "            'R': [('R', 0.8), ('U', 0.1), ('D', 0.1)],\n",
    "        }\n",
    "\n",
    "        # Sample the actual action taken from the probability distribution of intended action\n",
    "        possible_actions = list(action_probabilities[action].keys())\n",
    "        probabilities = list(action_probabilities[action].values())\n",
    "        actual_action = np.random.choice(possible_actions, p=probabilities)\n",
    "\n",
    "        if actual_action == 'U': \n",
    "            x = max(x-1,0)\n",
    "        elif actual_action == 'D': \n",
    "            x = min(x+1, self.size-1)\n",
    "        elif actual_action == 'L': \n",
    "            y = max(y-1,0)\n",
    "        elif actual_action == 'R': \n",
    "            y = min(y+1, self.size-1)\n",
    "        \n",
    "        if (x,y) in self.obstacle:\n",
    "            reward = -1000\n",
    "            done = False # hitting an obstacle doesn't end the episode\n",
    "        else:\n",
    "            self.state = (x,y)\n",
    "            reward = -1 # default step penalty\n",
    "    \n",
    "            if self.state == self.goal: \n",
    "                reward = 10\n",
    "                done = True\n",
    "            else: \n",
    "                done = False\n",
    "        \n",
    "        return self.state, reward, done\n",
    "    \n",
    "    def get_all_states(self): \n",
    "        # I don't want to return states that are obstacles\n",
    "        all_states = [(x,y) for x in range(self.size) for y in range(self.size)]\n",
    "        return list(set(all_states) - set(self.obstacle))\n",
    "\n",
    "    def is_terminal(self, state): \n",
    "        return state == self.goal"
   ]
  },
  {
   "cell_type": "code",
   "execution_count": 6,
   "id": "2eed1f64",
   "metadata": {},
   "outputs": [
    {
     "data": {
      "image/png": "[encoded data removed]",
      "text/plain": [
       "<Figure size 640x480 with 1 Axes>"
      ]
     },
     "metadata": {},
     "output_type": "display_data"
    }
   ],
   "source": [
    "env_stochastic = GridWorldStochasticActions(size=4, obstacle=[(1,3)])\n",
    "plot_env(env_stochastic)"
   ]
  },
  {
   "cell_type": "code",
   "execution_count": 11,
   "id": "721f79bb",
   "metadata": {},
   "outputs": [
    {
     "ename": "AttributeError",
     "evalue": "'list' object has no attribute 'keys'",
     "output_type": "error",
     "traceback": [
      "\u001b[31m---------------------------------------------------------------------------\u001b[39m",
      "\u001b[31mAttributeError\u001b[39m                            Traceback (most recent call last)",
      "\u001b[36mCell\u001b[39m\u001b[36m \u001b[39m\u001b[32mIn[11]\u001b[39m\u001b[32m, line 1\u001b[39m\n\u001b[32m----> \u001b[39m\u001b[32m1\u001b[39m V, policy = \u001b[43mvalue_iteration\u001b[49m\u001b[43m(\u001b[49m\u001b[43menv_stochastic\u001b[49m\u001b[43m)\u001b[49m\n",
      "\u001b[36mCell\u001b[39m\u001b[36m \u001b[39m\u001b[32mIn[9]\u001b[39m\u001b[32m, line 15\u001b[39m, in \u001b[36mvalue_iteration\u001b[39m\u001b[34m(env, gamma, theta)\u001b[39m\n\u001b[32m     13\u001b[39m \u001b[38;5;28;01mfor\u001b[39;00m action \u001b[38;5;129;01min\u001b[39;00m env.actions:\n\u001b[32m     14\u001b[39m     env.state = state \u001b[38;5;66;03m# temporarily set state\u001b[39;00m\n\u001b[32m---> \u001b[39m\u001b[32m15\u001b[39m     next_state, reward, _ = \u001b[43menv\u001b[49m\u001b[43m.\u001b[49m\u001b[43mstep\u001b[49m\u001b[43m(\u001b[49m\u001b[43maction\u001b[49m\u001b[43m)\u001b[49m\n\u001b[32m     16\u001b[39m     value = reward + gamma * V[next_state]\n\u001b[32m     17\u001b[39m     action_values.append(value)\n",
      "\u001b[36mCell\u001b[39m\u001b[36m \u001b[39m\u001b[32mIn[2]\u001b[39m\u001b[32m, line 32\u001b[39m, in \u001b[36mGridWorldStochasticActions.step\u001b[39m\u001b[34m(self, action)\u001b[39m\n\u001b[32m     24\u001b[39m action_probabilities = {\n\u001b[32m     25\u001b[39m     \u001b[33m'\u001b[39m\u001b[33mU\u001b[39m\u001b[33m'\u001b[39m: [(\u001b[33m'\u001b[39m\u001b[33mU\u001b[39m\u001b[33m'\u001b[39m, \u001b[32m0.8\u001b[39m), (\u001b[33m'\u001b[39m\u001b[33mL\u001b[39m\u001b[33m'\u001b[39m, \u001b[32m0.1\u001b[39m), (\u001b[33m'\u001b[39m\u001b[33mR\u001b[39m\u001b[33m'\u001b[39m, \u001b[32m0.1\u001b[39m)],\n\u001b[32m     26\u001b[39m     \u001b[33m'\u001b[39m\u001b[33mD\u001b[39m\u001b[33m'\u001b[39m: [(\u001b[33m'\u001b[39m\u001b[33mD\u001b[39m\u001b[33m'\u001b[39m, \u001b[32m0.8\u001b[39m), (\u001b[33m'\u001b[39m\u001b[33mL\u001b[39m\u001b[33m'\u001b[39m, \u001b[32m0.1\u001b[39m), (\u001b[33m'\u001b[39m\u001b[33mR\u001b[39m\u001b[33m'\u001b[39m, \u001b[32m0.1\u001b[39m)],\n\u001b[32m     27\u001b[39m     \u001b[33m'\u001b[39m\u001b[33mL\u001b[39m\u001b[33m'\u001b[39m: [(\u001b[33m'\u001b[39m\u001b[33mL\u001b[39m\u001b[33m'\u001b[39m, \u001b[32m0.8\u001b[39m), (\u001b[33m'\u001b[39m\u001b[33mU\u001b[39m\u001b[33m'\u001b[39m, \u001b[32m0.1\u001b[39m), (\u001b[33m'\u001b[39m\u001b[33mD\u001b[39m\u001b[33m'\u001b[39m, \u001b[32m0.1\u001b[39m)],\n\u001b[32m     28\u001b[39m     \u001b[33m'\u001b[39m\u001b[33mR\u001b[39m\u001b[33m'\u001b[39m: [(\u001b[33m'\u001b[39m\u001b[33mR\u001b[39m\u001b[33m'\u001b[39m, \u001b[32m0.8\u001b[39m), (\u001b[33m'\u001b[39m\u001b[33mU\u001b[39m\u001b[33m'\u001b[39m, \u001b[32m0.1\u001b[39m), (\u001b[33m'\u001b[39m\u001b[33mD\u001b[39m\u001b[33m'\u001b[39m, \u001b[32m0.1\u001b[39m)],\n\u001b[32m     29\u001b[39m }\n\u001b[32m     31\u001b[39m \u001b[38;5;66;03m# Sample the actual action taken from the probability distribution of intended action\u001b[39;00m\n\u001b[32m---> \u001b[39m\u001b[32m32\u001b[39m possible_actions = \u001b[38;5;28mlist\u001b[39m(\u001b[43maction_probabilities\u001b[49m\u001b[43m[\u001b[49m\u001b[43maction\u001b[49m\u001b[43m]\u001b[49m\u001b[43m.\u001b[49m\u001b[43mkeys\u001b[49m())\n\u001b[32m     33\u001b[39m probabilities = \u001b[38;5;28mlist\u001b[39m(action_probabilities[action].values())\n\u001b[32m     34\u001b[39m actual_action = np.random.choice(possible_actions, p=probabilities)\n",
      "\u001b[31mAttributeError\u001b[39m: 'list' object has no attribute 'keys'"
     ]
    }
   ],
   "source": [
    "V, policy = value_iteration(env_stochastic)"
   ]
  },
  {
   "cell_type": "code",
   "execution_count": null,
   "id": "6be2ecbf",
   "metadata": {},
   "outputs": [],
   "source": []
  }
 ],
 "metadata": {
  "kernelspec": {
   "display_name": "rl-bandit-env",
   "language": "python",
   "name": "python3"
  },
  "language_info": {
   "codemirror_mode": {
    "name": "ipython",
    "version": 3
   },
   "file_extension": ".py",
   "mimetype": "text/x-python",
   "name": "python",
   "nbconvert_exporter": "python",
   "pygments_lexer": "ipython3",
   "version": "3.13.0"
  }
 },
 "nbformat": 4,
 "nbformat_minor": 5
}
