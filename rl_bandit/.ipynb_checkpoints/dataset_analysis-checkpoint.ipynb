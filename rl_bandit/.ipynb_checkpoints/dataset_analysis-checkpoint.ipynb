{
 "cells": [
  {
   "cell_type": "code",
   "execution_count": 6,
   "id": "11ccddc5",
   "metadata": {},
   "outputs": [],
   "source": [
    "import numpy as np\n",
    "import matplotlib.pyplot as plt\n",
    "import seaborn as sns\n",
    "\n",
    "# Suppress warnings for cleaner output\n",
    "import warnings\n",
    "warnings.filterwarnings('ignore')"
   ]
  },
  {
   "cell_type": "markdown",
   "id": "9c215766",
   "metadata": {},
   "source": [
    "# DATA AND DATA ANALYSIS"
   ]
  },
  {
   "cell_type": "code",
   "execution_count": 9,
   "id": "2f9fcab2",
   "metadata": {},
   "outputs": [
    {
     "name": "stdout",
     "output_type": "stream",
     "text": [
      "Loading MovieLens 100k data...\n"
     ]
    }
   ],
   "source": [
    "# Load the datasets (adjust the path to where you download the files)\n",
    "print(\"Loading MovieLens 100k data...\")\n",
    "# Download from: https://files.grouplens.org/datasets/movielens/ml-100k.zip\n",
    "u_cols = ['user_id', 'age', 'sex', 'occupation', 'zip_code']\n",
    "users = pd.read_csv('./data/ml-100k/u.user', sep='|', names=u_cols, encoding='latin-1')\n"
   ]
  },
  {
   "cell_type": "code",
   "execution_count": 10,
   "id": "920b7c90",
   "metadata": {},
   "outputs": [
    {
     "data": {
      "text/html": [
       "<div>\n",
       "<style scoped>\n",
       "    .dataframe tbody tr th:only-of-type {\n",
       "        vertical-align: middle;\n",
       "    }\n",
       "\n",
       "    .dataframe tbody tr th {\n",
       "        vertical-align: top;\n",
       "    }\n",
       "\n",
       "    .dataframe thead th {\n",
       "        text-align: right;\n",
       "    }\n",
       "</style>\n",
       "<table border=\"1\" class=\"dataframe\">\n",
       "  <thead>\n",
       "    <tr style=\"text-align: right;\">\n",
       "      <th></th>\n",
       "      <th>user_id</th>\n",
       "      <th>age</th>\n",
       "      <th>sex</th>\n",
       "      <th>occupation</th>\n",
       "      <th>zip_code</th>\n",
       "    </tr>\n",
       "  </thead>\n",
       "  <tbody>\n",
       "    <tr>\n",
       "      <th>0</th>\n",
       "      <td>1</td>\n",
       "      <td>24</td>\n",
       "      <td>M</td>\n",
       "      <td>technician</td>\n",
       "      <td>85711</td>\n",
       "    </tr>\n",
       "    <tr>\n",
       "      <th>1</th>\n",
       "      <td>2</td>\n",
       "      <td>53</td>\n",
       "      <td>F</td>\n",
       "      <td>other</td>\n",
       "      <td>94043</td>\n",
       "    </tr>\n",
       "    <tr>\n",
       "      <th>2</th>\n",
       "      <td>3</td>\n",
       "      <td>23</td>\n",
       "      <td>M</td>\n",
       "      <td>writer</td>\n",
       "      <td>32067</td>\n",
       "    </tr>\n",
       "    <tr>\n",
       "      <th>3</th>\n",
       "      <td>4</td>\n",
       "      <td>24</td>\n",
       "      <td>M</td>\n",
       "      <td>technician</td>\n",
       "      <td>43537</td>\n",
       "    </tr>\n",
       "    <tr>\n",
       "      <th>4</th>\n",
       "      <td>5</td>\n",
       "      <td>33</td>\n",
       "      <td>F</td>\n",
       "      <td>other</td>\n",
       "      <td>15213</td>\n",
       "    </tr>\n",
       "  </tbody>\n",
       "</table>\n",
       "</div>"
      ],
      "text/plain": [
       "   user_id  age sex  occupation zip_code\n",
       "0        1   24   M  technician    85711\n",
       "1        2   53   F       other    94043\n",
       "2        3   23   M      writer    32067\n",
       "3        4   24   M  technician    43537\n",
       "4        5   33   F       other    15213"
      ]
     },
     "execution_count": 10,
     "metadata": {},
     "output_type": "execute_result"
    }
   ],
   "source": [
    "users.head()"
   ]
  },
  {
   "cell_type": "code",
   "execution_count": 11,
   "id": "eaf41357",
   "metadata": {},
   "outputs": [],
   "source": [
    "r_cols = ['user_id', 'movie_id', 'rating', 'unix_timestamp']\n",
    "ratings = pd.read_csv('./data/ml-100k/u.data', sep='\\t', names=r_cols, encoding='latin-1')"
   ]
  },
  {
   "cell_type": "code",
   "execution_count": 12,
   "id": "1487bd33",
   "metadata": {},
   "outputs": [
    {
     "data": {
      "text/html": [
       "<div>\n",
       "<style scoped>\n",
       "    .dataframe tbody tr th:only-of-type {\n",
       "        vertical-align: middle;\n",
       "    }\n",
       "\n",
       "    .dataframe tbody tr th {\n",
       "        vertical-align: top;\n",
       "    }\n",
       "\n",
       "    .dataframe thead th {\n",
       "        text-align: right;\n",
       "    }\n",
       "</style>\n",
       "<table border=\"1\" class=\"dataframe\">\n",
       "  <thead>\n",
       "    <tr style=\"text-align: right;\">\n",
       "      <th></th>\n",
       "      <th>user_id</th>\n",
       "      <th>movie_id</th>\n",
       "      <th>rating</th>\n",
       "      <th>unix_timestamp</th>\n",
       "    </tr>\n",
       "  </thead>\n",
       "  <tbody>\n",
       "    <tr>\n",
       "      <th>0</th>\n",
       "      <td>196</td>\n",
       "      <td>242</td>\n",
       "      <td>3</td>\n",
       "      <td>881250949</td>\n",
       "    </tr>\n",
       "    <tr>\n",
       "      <th>1</th>\n",
       "      <td>186</td>\n",
       "      <td>302</td>\n",
       "      <td>3</td>\n",
       "      <td>891717742</td>\n",
       "    </tr>\n",
       "    <tr>\n",
       "      <th>2</th>\n",
       "      <td>22</td>\n",
       "      <td>377</td>\n",
       "      <td>1</td>\n",
       "      <td>878887116</td>\n",
       "    </tr>\n",
       "    <tr>\n",
       "      <th>3</th>\n",
       "      <td>244</td>\n",
       "      <td>51</td>\n",
       "      <td>2</td>\n",
       "      <td>880606923</td>\n",
       "    </tr>\n",
       "    <tr>\n",
       "      <th>4</th>\n",
       "      <td>166</td>\n",
       "      <td>346</td>\n",
       "      <td>1</td>\n",
       "      <td>886397596</td>\n",
       "    </tr>\n",
       "  </tbody>\n",
       "</table>\n",
       "</div>"
      ],
      "text/plain": [
       "   user_id  movie_id  rating  unix_timestamp\n",
       "0      196       242       3       881250949\n",
       "1      186       302       3       891717742\n",
       "2       22       377       1       878887116\n",
       "3      244        51       2       880606923\n",
       "4      166       346       1       886397596"
      ]
     },
     "execution_count": 12,
     "metadata": {},
     "output_type": "execute_result"
    }
   ],
   "source": [
    "ratings.head()"
   ]
  },
  {
   "cell_type": "code",
   "execution_count": 13,
   "id": "e595ca37",
   "metadata": {},
   "outputs": [],
   "source": [
    "m_cols = ['movie_id', 'title', 'release_date', 'video_release_date', 'imdb_url', \n",
    "          'unknown', 'Action', 'Adventure', 'Animation', 'Children\\'s', 'Comedy', \n",
    "          'Crime', 'Documentary', 'Drama', 'Fantasy', 'Film-Noir', 'Horror', \n",
    "          'Musical', 'Mystery', 'Romance', 'Sci-Fi', 'Thriller', 'War', 'Western']\n",
    "movies = pd.read_csv('./data/ml-100k/u.item', sep='|', names=m_cols, encoding='latin-1')"
   ]
  },
  {
   "cell_type": "code",
   "execution_count": 14,
   "id": "b3c80156",
   "metadata": {},
   "outputs": [
    {
     "data": {
      "text/html": [
       "<div>\n",
       "<style scoped>\n",
       "    .dataframe tbody tr th:only-of-type {\n",
       "        vertical-align: middle;\n",
       "    }\n",
       "\n",
       "    .dataframe tbody tr th {\n",
       "        vertical-align: top;\n",
       "    }\n",
       "\n",
       "    .dataframe thead th {\n",
       "        text-align: right;\n",
       "    }\n",
       "</style>\n",
       "<table border=\"1\" class=\"dataframe\">\n",
       "  <thead>\n",
       "    <tr style=\"text-align: right;\">\n",
       "      <th></th>\n",
       "      <th>movie_id</th>\n",
       "      <th>title</th>\n",
       "      <th>release_date</th>\n",
       "      <th>video_release_date</th>\n",
       "      <th>imdb_url</th>\n",
       "      <th>unknown</th>\n",
       "      <th>Action</th>\n",
       "      <th>Adventure</th>\n",
       "      <th>Animation</th>\n",
       "      <th>Children's</th>\n",
       "      <th>...</th>\n",
       "      <th>Fantasy</th>\n",
       "      <th>Film-Noir</th>\n",
       "      <th>Horror</th>\n",
       "      <th>Musical</th>\n",
       "      <th>Mystery</th>\n",
       "      <th>Romance</th>\n",
       "      <th>Sci-Fi</th>\n",
       "      <th>Thriller</th>\n",
       "      <th>War</th>\n",
       "      <th>Western</th>\n",
       "    </tr>\n",
       "  </thead>\n",
       "  <tbody>\n",
       "    <tr>\n",
       "      <th>0</th>\n",
       "      <td>1</td>\n",
       "      <td>Toy Story (1995)</td>\n",
       "      <td>01-Jan-1995</td>\n",
       "      <td>NaN</td>\n",
       "      <td>http://us.imdb.com/M/title-exact?Toy%20Story%2...</td>\n",
       "      <td>0</td>\n",
       "      <td>0</td>\n",
       "      <td>0</td>\n",
       "      <td>1</td>\n",
       "      <td>1</td>\n",
       "      <td>...</td>\n",
       "      <td>0</td>\n",
       "      <td>0</td>\n",
       "      <td>0</td>\n",
       "      <td>0</td>\n",
       "      <td>0</td>\n",
       "      <td>0</td>\n",
       "      <td>0</td>\n",
       "      <td>0</td>\n",
       "      <td>0</td>\n",
       "      <td>0</td>\n",
       "    </tr>\n",
       "    <tr>\n",
       "      <th>1</th>\n",
       "      <td>2</td>\n",
       "      <td>GoldenEye (1995)</td>\n",
       "      <td>01-Jan-1995</td>\n",
       "      <td>NaN</td>\n",
       "      <td>http://us.imdb.com/M/title-exact?GoldenEye%20(...</td>\n",
       "      <td>0</td>\n",
       "      <td>1</td>\n",
       "      <td>1</td>\n",
       "      <td>0</td>\n",
       "      <td>0</td>\n",
       "      <td>...</td>\n",
       "      <td>0</td>\n",
       "      <td>0</td>\n",
       "      <td>0</td>\n",
       "      <td>0</td>\n",
       "      <td>0</td>\n",
       "      <td>0</td>\n",
       "      <td>0</td>\n",
       "      <td>1</td>\n",
       "      <td>0</td>\n",
       "      <td>0</td>\n",
       "    </tr>\n",
       "    <tr>\n",
       "      <th>2</th>\n",
       "      <td>3</td>\n",
       "      <td>Four Rooms (1995)</td>\n",
       "      <td>01-Jan-1995</td>\n",
       "      <td>NaN</td>\n",
       "      <td>http://us.imdb.com/M/title-exact?Four%20Rooms%...</td>\n",
       "      <td>0</td>\n",
       "      <td>0</td>\n",
       "      <td>0</td>\n",
       "      <td>0</td>\n",
       "      <td>0</td>\n",
       "      <td>...</td>\n",
       "      <td>0</td>\n",
       "      <td>0</td>\n",
       "      <td>0</td>\n",
       "      <td>0</td>\n",
       "      <td>0</td>\n",
       "      <td>0</td>\n",
       "      <td>0</td>\n",
       "      <td>1</td>\n",
       "      <td>0</td>\n",
       "      <td>0</td>\n",
       "    </tr>\n",
       "    <tr>\n",
       "      <th>3</th>\n",
       "      <td>4</td>\n",
       "      <td>Get Shorty (1995)</td>\n",
       "      <td>01-Jan-1995</td>\n",
       "      <td>NaN</td>\n",
       "      <td>http://us.imdb.com/M/title-exact?Get%20Shorty%...</td>\n",
       "      <td>0</td>\n",
       "      <td>1</td>\n",
       "      <td>0</td>\n",
       "      <td>0</td>\n",
       "      <td>0</td>\n",
       "      <td>...</td>\n",
       "      <td>0</td>\n",
       "      <td>0</td>\n",
       "      <td>0</td>\n",
       "      <td>0</td>\n",
       "      <td>0</td>\n",
       "      <td>0</td>\n",
       "      <td>0</td>\n",
       "      <td>0</td>\n",
       "      <td>0</td>\n",
       "      <td>0</td>\n",
       "    </tr>\n",
       "    <tr>\n",
       "      <th>4</th>\n",
       "      <td>5</td>\n",
       "      <td>Copycat (1995)</td>\n",
       "      <td>01-Jan-1995</td>\n",
       "      <td>NaN</td>\n",
       "      <td>http://us.imdb.com/M/title-exact?Copycat%20(1995)</td>\n",
       "      <td>0</td>\n",
       "      <td>0</td>\n",
       "      <td>0</td>\n",
       "      <td>0</td>\n",
       "      <td>0</td>\n",
       "      <td>...</td>\n",
       "      <td>0</td>\n",
       "      <td>0</td>\n",
       "      <td>0</td>\n",
       "      <td>0</td>\n",
       "      <td>0</td>\n",
       "      <td>0</td>\n",
       "      <td>0</td>\n",
       "      <td>1</td>\n",
       "      <td>0</td>\n",
       "      <td>0</td>\n",
       "    </tr>\n",
       "  </tbody>\n",
       "</table>\n",
       "<p>5 rows × 24 columns</p>\n",
       "</div>"
      ],
      "text/plain": [
       "   movie_id              title release_date  video_release_date  \\\n",
       "0         1   Toy Story (1995)  01-Jan-1995                 NaN   \n",
       "1         2   GoldenEye (1995)  01-Jan-1995                 NaN   \n",
       "2         3  Four Rooms (1995)  01-Jan-1995                 NaN   \n",
       "3         4  Get Shorty (1995)  01-Jan-1995                 NaN   \n",
       "4         5     Copycat (1995)  01-Jan-1995                 NaN   \n",
       "\n",
       "                                            imdb_url  unknown  Action  \\\n",
       "0  http://us.imdb.com/M/title-exact?Toy%20Story%2...        0       0   \n",
       "1  http://us.imdb.com/M/title-exact?GoldenEye%20(...        0       1   \n",
       "2  http://us.imdb.com/M/title-exact?Four%20Rooms%...        0       0   \n",
       "3  http://us.imdb.com/M/title-exact?Get%20Shorty%...        0       1   \n",
       "4  http://us.imdb.com/M/title-exact?Copycat%20(1995)        0       0   \n",
       "\n",
       "   Adventure  Animation  Children's  ...  Fantasy  Film-Noir  Horror  Musical  \\\n",
       "0          0          1           1  ...        0          0       0        0   \n",
       "1          1          0           0  ...        0          0       0        0   \n",
       "2          0          0           0  ...        0          0       0        0   \n",
       "3          0          0           0  ...        0          0       0        0   \n",
       "4          0          0           0  ...        0          0       0        0   \n",
       "\n",
       "   Mystery  Romance  Sci-Fi  Thriller  War  Western  \n",
       "0        0        0       0         0    0        0  \n",
       "1        0        0       0         1    0        0  \n",
       "2        0        0       0         1    0        0  \n",
       "3        0        0       0         0    0        0  \n",
       "4        0        0       0         1    0        0  \n",
       "\n",
       "[5 rows x 24 columns]"
      ]
     },
     "execution_count": 14,
     "metadata": {},
     "output_type": "execute_result"
    }
   ],
   "source": [
    "movies.head()"
   ]
  },
  {
   "cell_type": "code",
   "execution_count": 15,
   "id": "3a022dbe",
   "metadata": {},
   "outputs": [
    {
     "name": "stdout",
     "output_type": "stream",
     "text": [
      "Merging data...\n",
      "\n",
      "=== DATASET SHAPE ===\n",
      "Ratings DataFrame Shape: (100000, 31)\n",
      "Unique Users: 943\n",
      "Unique Movies: 1682\n"
     ]
    }
   ],
   "source": [
    "# Merge the data into one comprehensive DataFrame\n",
    "print(\"Merging data...\")\n",
    "df = ratings.merge(users, on='user_id').merge(movies, on='movie_id')\n",
    "\n",
    "# Basic Dataset Info\n",
    "print(\"\\n=== DATASET SHAPE ===\")\n",
    "print(f\"Ratings DataFrame Shape: {df.shape}\")\n",
    "print(f\"Unique Users: {df['user_id'].nunique()}\")\n",
    "print(f\"Unique Movies: {df['movie_id'].nunique()}\")"
   ]
  },
  {
   "cell_type": "code",
   "execution_count": 16,
   "id": "2c6d013c",
   "metadata": {},
   "outputs": [
    {
     "name": "stdout",
     "output_type": "stream",
     "text": [
      "\n",
      "=== BASIC STATISTICS ===\n",
      "count    100000.000000\n",
      "mean          3.529860\n",
      "std           1.125674\n",
      "min           1.000000\n",
      "25%           3.000000\n",
      "50%           4.000000\n",
      "75%           4.000000\n",
      "max           5.000000\n",
      "Name: rating, dtype: float64\n"
     ]
    }
   ],
   "source": [
    "# Basic Statistics\n",
    "print(\"\\n=== BASIC STATISTICS ===\")\n",
    "print(df['rating'].describe())"
   ]
  },
  {
   "cell_type": "code",
   "execution_count": 17,
   "id": "eb27bb69",
   "metadata": {},
   "outputs": [
    {
     "name": "stdout",
     "output_type": "stream",
     "text": [
      "Plot saved as 'rating_distribution.png'\n"
     ]
    },
    {
     "data": {
      "image/png": "[encoded data removed]",
      "text/plain": [
       "<Figure size 1000x500 with 2 Axes>"
      ]
     },
     "metadata": {},
     "output_type": "display_data"
    }
   ],
   "source": [
    "# Visualize the distribution of ratings\n",
    "plt.figure(figsize=(10, 5))\n",
    "plt.subplot(1, 2, 1)\n",
    "df['rating'].value_counts().sort_index().plot(kind='bar', color='skyblue')\n",
    "plt.title('Distribution of Ratings')\n",
    "plt.xlabel('Rating')\n",
    "plt.ylabel('Count')\n",
    "\n",
    "plt.subplot(1, 2, 2)\n",
    "df.groupby('user_id')['rating'].count().plot(kind='hist', bins=30, color='salmon')\n",
    "plt.title('Distribution of Ratings per User')\n",
    "plt.xlabel('Number of Ratings')\n",
    "plt.ylabel('Number of Users')\n",
    "plt.tight_layout()\n",
    "plt.savefig('rating_distribution.png')\n",
    "print(\"Plot saved as 'rating_distribution.png'\")"
   ]
  },
  {
   "cell_type": "code",
   "execution_count": 18,
   "id": "7ba1baa8",
   "metadata": {},
   "outputs": [],
   "source": [
    "# Explore genres (the core \"features\" of our movies)\n",
    "genre_columns = movies.columns[5:] # Get all genre columns\n",
    "movie_genre_counts = movies[genre_columns].sum().sort_values(ascending=False)"
   ]
  },
  {
   "cell_type": "code",
   "execution_count": 19,
   "id": "64c96bd1",
   "metadata": {},
   "outputs": [
    {
     "data": {
      "text/plain": [
       "Drama       725\n",
       "Comedy      505\n",
       "Action      251\n",
       "Thriller    251\n",
       "Romance     247\n",
       "dtype: int64"
      ]
     },
     "execution_count": 19,
     "metadata": {},
     "output_type": "execute_result"
    }
   ],
   "source": [
    "movie_genre_counts.head()"
   ]
  },
  {
   "cell_type": "code",
   "execution_count": 20,
   "id": "1a536058",
   "metadata": {},
   "outputs": [
    {
     "name": "stdout",
     "output_type": "stream",
     "text": [
      "Plot saved as 'genre_distribution.png'\n"
     ]
    },
    {
     "data": {
      "image/png": "[encoded data removed]",
      "text/plain": [
       "<Figure size 1200x600 with 1 Axes>"
      ]
     },
     "metadata": {},
     "output_type": "display_data"
    }
   ],
   "source": [
    "plt.figure(figsize=(12, 6))\n",
    "movie_genre_counts.plot(kind='bar', color='lightgreen')\n",
    "plt.title('Number of Movies per Genre')\n",
    "plt.xticks(rotation=45, ha='right')\n",
    "plt.tight_layout()\n",
    "plt.savefig('genre_distribution.png')\n",
    "print(\"Plot saved as 'genre_distribution.png'\")"
   ]
  },
  {
   "cell_type": "code",
   "execution_count": 21,
   "id": "fb5d0e87",
   "metadata": {},
   "outputs": [
    {
     "name": "stdout",
     "output_type": "stream",
     "text": [
      "\n",
      "=== TOP 10 MOST RATED MOVIES ===\n",
      "title\n",
      "Star Wars (1977)                 583\n",
      "Contact (1997)                   509\n",
      "Fargo (1996)                     508\n",
      "Return of the Jedi (1983)        507\n",
      "Liar Liar (1997)                 485\n",
      "English Patient, The (1996)      481\n",
      "Scream (1996)                    478\n",
      "Toy Story (1995)                 452\n",
      "Air Force One (1997)             431\n",
      "Independence Day (ID4) (1996)    429\n",
      "Name: count, dtype: int64\n"
     ]
    }
   ],
   "source": [
    "print(\"\\n=== TOP 10 MOST RATED MOVIES ===\")\n",
    "top_movies = df['title'].value_counts().head(10)\n",
    "print(top_movies)"
   ]
  },
  {
   "cell_type": "markdown",
   "id": "4ab10111",
   "metadata": {},
   "source": [
    "# Preparing data for bandit"
   ]
  },
  {
   "cell_type": "code",
   "execution_count": 25,
   "id": "81aa3e85",
   "metadata": {},
   "outputs": [],
   "source": [
    "# Merge to get movie titles\n",
    "df = ratings.merge(movies, on='movie_id')"
   ]
  },
  {
   "cell_type": "code",
   "execution_count": 30,
   "id": "ada3e207",
   "metadata": {},
   "outputs": [],
   "source": [
    "# Define a binary reward: 1 if rating >= 4, else 0\n",
    "df['reward'] = (df['rating'] >= 4).astype(int)"
   ]
  },
  {
   "cell_type": "code",
   "execution_count": 31,
   "id": "6cbcfefd",
   "metadata": {},
   "outputs": [
    {
     "name": "stdout",
     "output_type": "stream",
     "text": [
      "\n",
      "Working with a subset of 50 arms (movies).\n",
      "Number of interactions in this subset: 17841\n"
     ]
    }
   ],
   "source": [
    "# ----------------------------\n",
    "# 2. DEFINE OUR ARMS (ACTION SPACE)\n",
    "# ----------------------------\n",
    "# Let's choose the top 50 most frequently rated movies to start with.\n",
    "# This creates a manageable action space for our first bandit.\n",
    "top_movies = df['movie_id'].value_counts().head(50).index.tolist()\n",
    "# Filter the dataset to only include interactions with these top movies\n",
    "df_top = df[df['movie_id'].isin(top_movies)].copy()\n",
    "\n",
    "# Create a mapping from movie_id to a simpler arm index (0 to 49)\n",
    "arm_index_map = {movie_id: idx for idx, movie_id in enumerate(top_movies)}\n",
    "df_top['arm'] = df_top['movie_id'].map(arm_index_map)\n",
    "\n",
    "n_arms = len(top_movies)\n",
    "print(f\"\\nWorking with a subset of {n_arms} arms (movies).\")\n",
    "print(f\"Number of interactions in this subset: {len(df_top)}\")"
   ]
  },
  {
   "cell_type": "code",
   "execution_count": 32,
   "id": "367eca29",
   "metadata": {},
   "outputs": [],
   "source": [
    "# ----------------------------\n",
    "# 3. THE THOMPSON SAMPLING AGENT\n",
    "# ----------------------------\n",
    "class ThompsonSamplingBandit:\n",
    "    def __init__(self, n_arms):\n",
    "        # We start with a Beta(1, 1) prior for each arm, which is uniform\n",
    "        self.alpha = np.ones(n_arms)\n",
    "        self.beta = np.ones(n_arms)\n",
    "        self.n_arms = n_arms\n",
    "        \n",
    "    def select_arm(self):\n",
    "        # Sample a value from the Beta distribution for each arm\n",
    "        theta_samples = np.random.beta(self.alpha, self.beta)\n",
    "        # Return the arm with the highest sampled value\n",
    "        return np.argmax(theta_samples)\n",
    "    \n",
    "    def update(self, chosen_arm, reward):\n",
    "        # Update the Beta distribution parameters for the chosen arm\n",
    "        self.alpha[chosen_arm] += reward\n",
    "        self.beta[chosen_arm] += (1 - reward)"
   ]
  },
  {
   "cell_type": "code",
   "execution_count": 33,
   "id": "2592b682",
   "metadata": {},
   "outputs": [
    {
     "name": "stdout",
     "output_type": "stream",
     "text": [
      "\n",
      "Simulating the online learning loop...\n"
     ]
    }
   ],
   "source": [
    "# ----------------------------\n",
    "# 4. SIMULATE THE ONLINE LEARNING LOOP\n",
    "# ----------------------------\n",
    "# We will run through the historical data in chronological order.\n",
    "# For each recorded interaction, our bandit will choose an arm (movie).\n",
    "# We then update the bandit with the reward from the *actually* watched movie.\n",
    "# This simulates what would happen if we had deployed our bandit.\n",
    "\n",
    "print(\"\\nSimulating the online learning loop...\")\n",
    "df_top_sorted = df_top.sort_values('unix_timestamp') # Simulate time\n",
    "\n",
    "# Initialize the bandit and track performance\n",
    "bandit = ThompsonSamplingBandit(n_arms)\n",
    "random_cumulative_rewards = []\n",
    "bandit_cumulative_rewards = []\n",
    "cumulative_reward = 0\n",
    "bandit_cumulative_reward = 0\n",
    "\n",
    "# We'll run the simulation on a subset for speed (optional)\n",
    "# df_top_sorted = df_top_sorted.head(10000)"
   ]
  },
  {
   "cell_type": "code",
   "execution_count": 34,
   "id": "aa860684",
   "metadata": {},
   "outputs": [
    {
     "name": "stdout",
     "output_type": "stream",
     "text": [
      "\n",
      "Plotting results...\n"
     ]
    },
    {
     "data": {
      "image/png": "[encoded data removed]",
      "text/plain": [
       "<Figure size 1200x600 with 1 Axes>"
      ]
     },
     "metadata": {},
     "output_type": "display_data"
    },
    {
     "name": "stdout",
     "output_type": "stream",
     "text": [
      "\n",
      "=== SIMULATION RESULTS ===\n",
      "Final Cumulative Average Reward (Thompson Sampling): 0.0068\n",
      "Final Cumulative Average Reward (Historical Policy): 0.2629\n",
      "Improvement: -97.43%\n",
      "\n",
      "=== TOP 5 RECOMMENDED MOVIES (Highest Estimated Click-Through Rate) ===\n",
      "Movie: Star Wars (1977)                                   | Estimated P(Like): 0.903\n",
      "Movie: Godfather, The (1972)                              | Estimated P(Like): 0.895\n",
      "Movie: Star Trek: First Contact (1996)                    | Estimated P(Like): 0.895\n",
      "Movie: Shawshank Redemption, The (1994)                   | Estimated P(Like): 0.889\n",
      "Movie: Silence of the Lambs, The (1991)                   | Estimated P(Like): 0.870\n",
      "\n",
      "Simulation complete!\n"
     ]
    }
   ],
   "source": [
    "for i, row in df_top_sorted.iterrows():\n",
    "    user_id, movie_id, true_arm, true_reward = row['user_id'], row['movie_id'], row['arm'], row['reward']\n",
    "    \n",
    "    # 1. Bandit chooses an arm\n",
    "    chosen_arm = bandit.select_arm()\n",
    "    \n",
    "    # 2. We observe the reward for the arm that was *actually* taken in the historical data.\n",
    "    # In a true online setting, we would get a reward for the chosen_arm.\n",
    "    # For this simulation, we use the \"true_reward\" only if the bandit happened to choose\n",
    "    # the same movie the user actually watched. This is a common way to evaluate on historical data.\n",
    "    if chosen_arm == true_arm:\n",
    "        reward_for_update = true_reward\n",
    "        bandit_cumulative_reward += true_reward\n",
    "    else:\n",
    "        # If the bandit chose a different movie, we don't get to observe the reward for its choice.\n",
    "        # We only know what happened for the movie the user actually watched.\n",
    "        reward_for_update = None # We can't update for an outcome we didn't observe\n",
    "    \n",
    "    # 3. Update the bandit with the outcome, but only if we have a reward for the chosen action\n",
    "    if reward_for_update is not None:\n",
    "        bandit.update(chosen_arm, reward_for_update)\n",
    "    \n",
    "    # 4. Track cumulative reward for the bandit and a random policy\n",
    "    cumulative_reward += true_reward # This is the reward from the historical policy\n",
    "    random_cumulative_rewards.append(cumulative_reward / (i+1)) # Running average for random\n",
    "    bandit_cumulative_rewards.append(bandit_cumulative_reward / (i+1)) # Running average for bandit\n",
    "\n",
    "# ----------------------------\n",
    "# 5. PLOT AND ANALYZE RESULTS\n",
    "# ----------------------------\n",
    "print(\"\\nPlotting results...\")\n",
    "plt.figure(figsize=(12, 6))\n",
    "plt.plot(bandit_cumulative_rewards, label='Thompson Sampling', linewidth=2)\n",
    "plt.plot(random_cumulative_rewards, label='Historical (Random) Policy', linestyle='--', alpha=0.8)\n",
    "plt.xlabel('Number of Rounds (User Interactions)')\n",
    "plt.ylabel('Cumulative Average Reward')\n",
    "plt.title('Thompson Sampling vs. Random Policy Performance (Simulated on Historical Data)')\n",
    "plt.legend()\n",
    "plt.grid(True, alpha=0.3)\n",
    "plt.tight_layout()\n",
    "plt.savefig('thompson_sampling_performance.png', dpi=150)\n",
    "plt.show()\n",
    "\n",
    "# Analyze final performance\n",
    "final_ts_reward = bandit_cumulative_rewards[-1]\n",
    "final_random_reward = random_cumulative_rewards[-1]\n",
    "improvement = ((final_ts_reward - final_random_reward) / final_random_reward) * 100\n",
    "\n",
    "print(\"\\n=== SIMULATION RESULTS ===\")\n",
    "print(f\"Final Cumulative Average Reward (Thompson Sampling): {final_ts_reward:.4f}\")\n",
    "print(f\"Final Cumulative Average Reward (Historical Policy): {final_random_reward:.4f}\")\n",
    "print(f\"Improvement: {improvement:+.2f}%\")\n",
    "\n",
    "# Let's see which movies the bandit learned were the best\n",
    "print(\"\\n=== TOP 5 RECOMMENDED MOVIES (Highest Estimated Click-Through Rate) ===\")\n",
    "# The estimated probability of success (reward=1) is alpha / (alpha + beta)\n",
    "arm_probs = bandit.alpha / (bandit.alpha + bandit.beta)\n",
    "top_5_arms = np.argsort(arm_probs)[-5:][::-1] # Indices of top 5 arms\n",
    "\n",
    "# Map arm indices back to movie titles\n",
    "for arm_idx in top_5_arms:\n",
    "    original_movie_id = top_movies[arm_idx]\n",
    "    movie_title = movies.loc[movies['movie_id'] == original_movie_id, 'title'].iloc[0]\n",
    "    est_prob = arm_probs[arm_idx]\n",
    "    print(f\"Movie: {movie_title: <50} | Estimated P(Like): {est_prob:.3f}\")\n",
    "\n",
    "print(\"\\nSimulation complete!\")"
   ]
  },
  {
   "cell_type": "code",
   "execution_count": null,
   "id": "421494f6",
   "metadata": {},
   "outputs": [],
   "source": []
  }
 ],
 "metadata": {
  "kernelspec": {
   "display_name": "Python 3 (ipykernel)",
   "language": "python",
   "name": "python3"
  },
  "language_info": {
   "codemirror_mode": {
    "name": "ipython",
    "version": 3
   },
   "file_extension": ".py",
   "mimetype": "text/x-python",
   "name": "python",
   "nbconvert_exporter": "python",
   "pygments_lexer": "ipython3",
   "version": "3.10.10"
  }
 },
 "nbformat": 4,
 "nbformat_minor": 5
}
